{
 "cells": [
  {
   "cell_type": "markdown",
   "metadata": {},
   "source": [
    "<div style=\"background-color:purple; color:black; padding: 4px; margin: 4px;border-radius: 10px; \"><h4 style=\"color: white;\"><center>Exploratory Data Analysis: Bussiness Questions<center><h4/></div>\n",
    "\n",
    "<div style=\"background-color:purple; color:black; padding: 4px; margin: 4px; font-size: 6; border-radius: 10px;\">  \n",
    "  <ol>\n",
    "    <li style=\"color: white;\"> Is there a relationship between Gender and Churn? & Which Gender has more Orders?</li>\n",
    "    <li style=\"color: white;\">Which MartialStatus has the highest Churn rate?</li>\n",
    "    <li style=\"color: white;\">Which CityTier has higher Tenure and OrderCount?</li>\n",
    "    <li style=\"color: white;\">Is Customer with High SatisfactionScore have high HourSpendOnApp?<br>Is there a correlation between SatisfactionScore and HourSpendOnApp?</li>\n",
    "    <li style=\"color: white;\">Which CityTier has the most HourSpendOnApp?</li>\n",
    "    <li style=\"color: white;\">What is the relation between NumberOfAddress and CityTier within the churn segment?</li>\n",
    "    <li style=\"color: white;\">What is the relation between Complain and DaySinceLastOrder?</li>\n",
    "    <li style=\"color: white;\">Is there a relationship between PreferredLoginDevice and Churn?</li>\n",
    "    <li style=\"color: white;\">What is the distance between warehouse to customer house in different city tier?</li>\n",
    "    <li style=\"color: white;\">Does different CityTiers has different prefered products?</li>\n",
    "    <li style=\"color: white;\">What is the preferred payment mode for different CityTiers?</li>\n",
    "    <li style=\"color: white;\">Which CityTier has the highest OrderCount?</li>\n",
    "    <li style=\"color: white;\">Does the percentage increase in order amount from last year affect churn rate?</li>\n",
    "    <li style=\"color: white;\">What is the relation between Complain and DaySinceLastOrder?</li>\n",
    "    <li style=\"color: white;\">What is ordercount for customers with high HourSpendOnApp?</li>\n",
    "    <li style=\"color: white;\">Is there a relationship between preferred order category and churn rate?</li>\n",
    "    <li style=\"color: white;\">Do customers who used more coupons have lower churn rates?</li>\n",
    "    <li style=\"color: white;\">Is there a connection between satisfaction score and number of orders in the past month?</li>\n",
    "    <li style=\"color: white;\">There is relation between CashbackAmount and  order counts within churn?</li>\n",
    "    <li style=\"color: white;\">Are customers who complained more likely to churn?</li>       \n",
    "  </ol>\n",
    "</div>\n",
    "\n"
   ]
  },
  {
   "cell_type": "markdown",
   "metadata": {},
   "source": [
    "<div class=\"alert alert-block alert-info\">\n",
    "<b>Gender vs. Churn:</b> Use blue boxes (alert-info) for tips and notes.</div>"
   ]
  },
  {
   "cell_type": "code",
   "execution_count": 2,
   "metadata": {},
   "outputs": [
    {
     "ename": "NameError",
     "evalue": "name 'numCus' is not defined",
     "output_type": "error",
     "traceback": [
      "\u001b[0;31m---------------------------------------------------------------------------\u001b[0m",
      "\u001b[0;31mNameError\u001b[0m                                 Traceback (most recent call last)",
      "\u001b[0;32m/var/folders/kk/8bhkmrmx1r18z0wsy85f6m_c0000gn/T/ipykernel_1211/4107902898.py\u001b[0m in \u001b[0;36m<module>\u001b[0;34m\u001b[0m\n\u001b[0;32m----> 1\u001b[0;31m \u001b[0mnumCus\u001b[0m\u001b[0;34m\u001b[0m\u001b[0;34m\u001b[0m\u001b[0m\n\u001b[0m",
      "\u001b[0;31mNameError\u001b[0m: name 'numCus' is not defined"
     ]
    }
   ],
   "source": []
  }
 ],
 "metadata": {
  "kernelspec": {
   "display_name": "base",
   "language": "python",
   "name": "python3"
  },
  "language_info": {
   "codemirror_mode": {
    "name": "ipython",
    "version": 3
   },
   "file_extension": ".py",
   "mimetype": "text/x-python",
   "name": "python",
   "nbconvert_exporter": "python",
   "pygments_lexer": "ipython3",
   "version": "3.9.13"
  }
 },
 "nbformat": 4,
 "nbformat_minor": 2
}
